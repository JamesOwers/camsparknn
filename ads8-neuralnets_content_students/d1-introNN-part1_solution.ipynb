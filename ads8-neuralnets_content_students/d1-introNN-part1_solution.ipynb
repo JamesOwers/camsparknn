{
  "cells": [
    {
      "cell_type": "markdown",
      "metadata": {},
      "source": [
        "# Introduction to Neural Networks \n",
        "\n",
        "\n",
        "\n",
        "## The Perceptron\n",
        "\n",
        "\n",
        "To get an intuitive idea about Neural Networks, we will code an elementary perceptron. In this example we will illustrate some of the concepts you have just seen, build a small perceptron and make a link between Perceptron and linear classifier.\n",
        "\n",
        "### Generating some data\n",
        "\n",
        "Before working with the MNIST dataset, you'll first test your perceptron implementation on a \"toy\" dataset with just a few data points. This allows you to test your implementations with data you can easily inspect and visualise without getting lost in the complexities of the dataset itself.\n",
        "\n",
        "\n",
        "Start by loading two basic libraries: `matplotlib` and numpy\n",
        "\n"
      ]
    },
    {
      "cell_type": "code",
      "execution_count": 0,
      "metadata": {},
      "outputs": [],
      "source": [
        "# Load the libraries ...\n",
        "import matplotlib.pyplot as plt\n",
        "import numpy as np\n",
        "%matplotlib inline\n"
      ]
    },
    {
      "cell_type": "markdown",
      "metadata": {},
      "source": [
        "Then let us generate some points in a 2D space that will form our dataset (you can add points later if you'd like)"
      ]
    },
    {
      "cell_type": "code",
      "execution_count": 0,
      "metadata": {
        "collapsed": true
      },
      "outputs": [],
      "source": [
        "crosses = np.array([[0.5, 1.0], [1.0, 1.5], [1.5, 1.5], [2.0, 1.2], [3.0, 1.7], [1.5, 1.1],[2.1, 1.7]])\n",
        "circles = np.array([[3.0, 0.5], [4.0, 1.0], [5.0, 0.7], [4.0, 0.2], [5.1, 0.3], [4.2, 0.7]])"
      ]
    },
    {
      "cell_type": "markdown",
      "metadata": {},
      "source": [
        "### Visualising the data\n",
        "\n",
        "Using `matploblib`, you can display the crosses as crosses (use `marker='x'`) and the circles as circles (use `marker='o'`). You will need to specify that you don't want a line using `linestyle='none'`. You can observe that the points are very easily separable. "
      ]
    },
    {
      "cell_type": "code",
      "execution_count": 0,
      "metadata": {},
      "outputs": [],
      "source": [
        "plt.plot(crosses[:,0], crosses[:,1], marker='x', linestyle='none')\n",
        "plt.plot(circles[:,0], circles[:,1], marker='o', linestyle='none')\n",
        "plt.ylim((0, 2))\n",
        "plt.xlim((0, 6))\n"
      ]
    },
    {
      "cell_type": "markdown",
      "metadata": {},
      "source": [
        "### Computing the output of a Perceptron\n",
        "\n",
        "\n",
        "Let us consider the problem of building a classifier that for a given **new** point will return whether it belongs to the crosses (class 1) or circles (class 0). So for example it would take `(2, 1.5)` and return `1`. \n",
        "\n",
        "Define a function `outPerceptron` which takes a 2d vector `x`, a 2d weight vector `w` and a bias `b` and returns the output following the step rule:\n",
        "\n",
        "$$\n",
        "\\text{output} = \\left\\{\\begin{align} 1\\,\\, &\\text{if}\\,\\, \\langle x, w\\rangle -b \\, >\\,0 \\\\ 0\\,\\, &\\text{otherwise}\\end{align}\\right.\n",
        "$$"
      ]
    },
    {
      "cell_type": "code",
      "execution_count": 0,
      "metadata": {
        "collapsed": true
      },
      "outputs": [],
      "source": [
        "def outPerceptron(x, w, b):\n",
        "    innerProd = np.dot(x, w)\n",
        "    output = 0\n",
        "    if innerProd > b:\n",
        "        output = 1\n",
        "    return output\n"
      ]
    },
    {
      "cell_type": "markdown",
      "metadata": {},
      "source": [
        "You can then enrich the function so that it can take a **sequence of inputs** (in the form of a matrix where each line of the matrix is one input vector) and return the corresponding **sequence of outputs**. \n",
        "\n",
        "One way of doing this is to loop over the rows of `X` and for each of them, use the function `outPerceptron` that you just wrote. Store the results in an array `outputs` and return that. Call that function `multiOutPerceptron`/\n",
        "\n",
        "Once you have that, you can try optimising the function by using a matrix-vector product; call the resulting function `multiOutPerceptron2` (and make sure it leads to the same results!)"
      ]
    },
    {
      "cell_type": "code",
      "execution_count": 0,
      "metadata": {
        "collapsed": true
      },
      "outputs": [],
      "source": [
        "def multiOutPerceptron(X,w,b):\n",
        "    nInstances = X.shape[0]\n",
        "    outputs    = np.zeros(nInstances)\n",
        "    for i in range(0,nInstances):\n",
        "        outputs[i] = outPerceptron(X[i,:],w,b)\n",
        "    return outputs\n",
        "\n",
        "def multiOutPerceptron2(X,w,b):\n",
        "    return (np.dot(X,w)>b).astype(float)\n"
      ]
    },
    {
      "cell_type": "markdown",
      "metadata": {},
      "source": [
        "## = checkpoint 1 =\n",
        "\n",
        "here, you should copy-paste the following code. If it returns `True` you're good to go on.\n",
        "\n",
        "```python\n",
        "np.random.seed(1234)\n",
        "X = np.random.randn(10, 5)\n",
        "w = np.random.randn(5)\n",
        "b = np.random.randn()\n",
        "np.all(multiOutPerceptron2(X, w, b) == np.array([ 1.,  1.,  0.,  0.,  0.,  1.,  0.,  0.,  1.,  0.]))\n",
        "```\n"
      ]
    },
    {
      "cell_type": "markdown",
      "metadata": {},
      "source": [
        "### Trying different weights and biases\n",
        "\n",
        "You now have a method that can compute the outputs predicted by an **untrained** perceptron. Can you try picking different weights and biases and see how well you can classify the crosses and circles? \n",
        "\n",
        "**Note**: to join the crosses and circles into one `instances` matrix, you can use `np.concatenate((crosses, circles), axis=0)`.\n",
        "\n",
        "You can maybe start with `w=[1, 1]` and `b=1` and output the result of `multiOutPerceptron`. What is your analysis?"
      ]
    },
    {
      "cell_type": "code",
      "execution_count": 0,
      "metadata": {},
      "outputs": [],
      "source": [
        "test_w1 = [1., 1.]\n",
        "test_b1 = 1.\n",
        "instances = np.concatenate((crosses, circles), axis=0)\n",
        "print(multiOutPerceptron(instances, test_w1, test_b1))\n"
      ]
    },
    {
      "cell_type": "markdown",
      "metadata": {},
      "source": [
        "With the suggested weights and biases (`([1, 1],1)`), you should see something like \n",
        "\n",
        "> `[ 1.  1.  1.  1.  1.  1.  1.  1.  1.  1.  1.  1.  1.]` \n",
        "\n",
        "which is clearly not great! Now try with `w=[-0.5, 1]` and `b=-0.2`, what do you observe? "
      ]
    },
    {
      "cell_type": "code",
      "execution_count": 0,
      "metadata": {},
      "outputs": [],
      "source": [
        "test_w2 = [-0.5, 1.]\n",
        "test_b2 = -0.2\n",
        "print (multiOutPerceptron(instances, test_w2, test_b2))\n"
      ]
    },
    {
      "cell_type": "markdown",
      "metadata": {},
      "source": [
        "### How did we get there?\n",
        "\n",
        "This is much better (100% correct on the training data). \n",
        "To obtain these values, we found a **separating hyperplane** (here a line) between the points. \n",
        "The equation of the line is \n",
        "\n",
        "$ y = 0.5x-0.2 $\n",
        "\n",
        "\n",
        "**Quiz**\n",
        "- **Can you explain why this line corresponds to the weights and bias we used?**\n",
        "- **Is this separating line unique? does it matter?**"
      ]
    },
    {
      "cell_type": "markdown",
      "metadata": {},
      "source": [
        "### Illustrating the output of the Perceptron and the separating line\n",
        "\n",
        "Copy-paste your code to visualise the crosses and circles above and overlay the separating line in red. \n",
        "\n",
        "Can you modify the parameters of the line a little bit and still find a separating line that \"works\"? "
      ]
    },
    {
      "cell_type": "code",
      "execution_count": 0,
      "metadata": {},
      "outputs": [],
      "source": [
        "xx  = np.linspace(0, 6)\n",
        "yy1 = 0.5 * xx - 0.2\n",
        "yy2 = 0.4 * xx - 0.3\n",
        "\n",
        "plt.plot(xx, yy1, color='red')\n",
        "plt.plot(xx, yy2, color='orange')\n",
        "plt.plot(crosses[:, 0], crosses[:, 1], marker='x', linestyle='none', label='sp1')\n",
        "plt.plot(circles[:, 0], circles[:, 1], marker='o', linestyle='none', label='sp2')\n",
        "plt.ylim((0, 2))\n",
        "plt.xlim((0, 6))\n",
        "plt.legend()\n"
      ]
    },
    {
      "cell_type": "markdown",
      "metadata": {},
      "source": [
        "### Testing a few new points\n",
        "\n",
        "Can you add the following `testPoints` on the plot and discuss what happens to them? "
      ]
    },
    {
      "cell_type": "code",
      "execution_count": 0,
      "metadata": {},
      "outputs": [],
      "source": [
        "testPoints = np.array([[1, 0.5],[5, 1.5],[3, 1.1]])"
      ]
    },
    {
      "cell_type": "code",
      "execution_count": 0,
      "metadata": {},
      "outputs": [],
      "source": [
        "plt.plot(xx, yy1, color='red')\n",
        "plt.plot(xx, yy2, color='orange')\n",
        "plt.plot(crosses[:, 0], crosses[:, 1], marker='x', linestyle='none')\n",
        "plt.plot(circles[:, 0], circles[:, 1], marker='o', linestyle='none')\n",
        "plt.ylim((0, 2))\n",
        "plt.xlim((0, 6))\n",
        "\n",
        "# the points\n",
        "plt.plot(1, 0.5, marker='s', color='blue', markersize=10) \n",
        "plt.plot(5, 1.5, marker='s', color='green', markersize=10)\n",
        "plt.plot(3, 1.1, marker='^', color='black', markersize=10)\n"
      ]
    },
    {
      "cell_type": "markdown",
      "metadata": {},
      "source": [
        "## = checkpoint 2 =\n"
      ]
    },
    {
      "cell_type": "markdown",
      "metadata": {},
      "source": [
        "# Gradient Descent (remember?)\n",
        "\n",
        "## Coding a simple gradient descent\n",
        "\n",
        "### Considering some function\n",
        "\n",
        "Let's consider the following arbitrary function and its gradient\n",
        "\n",
        "$f(x) = \\exp(-\\sin(x))x^2$\n",
        "\n",
        "$f'(x) = -x \\exp(-\\sin(x)) (x\\cos(x)-2)$\n",
        "\n",
        "It is convenient to define python functions which return the value of the function and its gradient at an arbitrary point $x$. Can you define a function `function` and a function `gradient`? \n",
        "\n",
        "* use `np.exp`, `np.sin`, `np.cos` and remember that `x**2` is the squared of `x`"
      ]
    },
    {
      "cell_type": "code",
      "execution_count": 0,
      "metadata": {
        "collapsed": true
      },
      "outputs": [],
      "source": [
        "def function(x):\n",
        "    return np.exp(-np.sin(x))*(x**2)\n",
        "\n",
        "def gradient(x):\n",
        "    return -x*np.exp(-np.sin(x))*(x*np.cos(x)-2)\n"
      ]
    },
    {
      "cell_type": "markdown",
      "metadata": {},
      "source": [
        "### Visualising the function\n",
        "\n",
        "Can you write a simple code that shows what the function looks like over the interval `[-10,10]`? use at least `100` points in order to have a high enough definition of the line."
      ]
    },
    {
      "cell_type": "code",
      "execution_count": 0,
      "metadata": {},
      "outputs": [],
      "source": [
        "x = np.linspace(-10, 10, 500)\n",
        "plt.plot(x, function(x))\n"
      ]
    },
    {
      "cell_type": "markdown",
      "metadata": {},
      "source": [
        "### Implementing a simple GD\n",
        "\n",
        "Now let us implement a simple Gradient Descent that uses constant stepsizes. Define two functions:\n",
        "\n",
        "1. simplest version which doesn't store the intermediate steps that are taken. \n",
        "2. a version which does store the steps (useful to visualize what is going on and explain some of the typical behaviour of GD).\n",
        "\n",
        "Let's call them `simpleGD` and `simpleGD2`. The parameters of both functions will be the initial point `x0`, the stepsize, and the number of steps to be taken."
      ]
    },
    {
      "cell_type": "code",
      "execution_count": 0,
      "metadata": {
        "collapsed": true
      },
      "outputs": [],
      "source": [
        "def simpleGD(x0, stepsize, nsteps):\n",
        "    x    = x0\n",
        "    for k in range(0,nsteps):\n",
        "        x -= stepsize*gradient(x)\n",
        "    return x\n",
        "\n",
        "def simpleGD2(x0, stepsize, nsteps):\n",
        "    x    = np.zeros(nsteps+1)\n",
        "    x[0] = x0\n",
        "    for k in range(0,nsteps):\n",
        "        x[k+1] = x[k]-stepsize*gradient(x[k])\n",
        "    return x\n"
      ]
    },
    {
      "cell_type": "markdown",
      "metadata": {},
      "source": [
        "### Testing different situations\n",
        "\n",
        "Try your algorithm `simpleGD` in the following cases:\n",
        "\n",
        "* $x_0=1, \\delta=0.1, n=100$\n",
        "* $x_0=6, \\delta=0.1, n=100$\n",
        "* $x_0=8, \\delta=0.01, n=100$\n",
        "\n",
        "Can you discuss the results you obtained by having a look at the plot of the function? \n",
        "\n",
        "### Visualising the cases\n",
        "\n",
        "We suggest below a function `viz` which shows the path taken by the gradient descent when computed using `simpleGD2`. \n",
        "\n",
        "Use it in the different cases above in order to see what the Gradient Descent does. Try to interpret the different cases."
      ]
    },
    {
      "cell_type": "code",
      "execution_count": 0,
      "metadata": {
        "collapsed": true
      },
      "outputs": [],
      "source": [
        "def viz(x, a=-10, b=10):\n",
        "    xx  = np.linspace(a, b, 100)\n",
        "    yy  = function(xx)\n",
        "    ygd = function(x)\n",
        "    plt.plot(xx, yy)\n",
        "    plt.plot(x, ygd, color='red')\n",
        "    plt.plot(x[0], ygd[0], marker='o', color='green', markersize=10)\n",
        "    plt.plot(x[len(x)-1], ygd[len(x)-1], marker='o', color='red', markersize=10)\n",
        "    plt.show()\n"
      ]
    },
    {
      "cell_type": "code",
      "execution_count": 0,
      "metadata": {},
      "outputs": [],
      "source": [
        "x1 = simpleGD2(3, 0.1, 100)\n",
        "x2 = simpleGD2(6, 0.1, 100)\n",
        "x3 = simpleGD2(8, 0.01, 100)\n",
        "x4 = simpleGD2(3, 0.5, 100)\n",
        "\n",
        "viz(x1)\n",
        "viz(x2)\n",
        "viz(x3)\n",
        "viz(x4)\n"
      ]
    }
  ],
  "metadata": {
    "kernelspec": {
      "display_name": "Python 3",
      "language": "python",
      "name": "python3"
    },
    "language_info": {
      "codemirror_mode": {
        "name": "ipython",
        "version": 3
      },
      "file_extension": ".py",
      "mimetype": "text/x-python",
      "name": "python",
      "nbconvert_exporter": "python",
      "pygments_lexer": "ipython3",
      "version": "3.6.3"
    }
  },
  "nbformat": 4,
  "nbformat_minor": 1
}